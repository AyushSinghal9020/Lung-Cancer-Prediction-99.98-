{
 "cells": [
  {
   "cell_type": "code",
   "execution_count": 1,
   "id": "161ecf0e",
   "metadata": {
    "_cell_guid": "b1076dfc-b9ad-4769-8c92-a6c4dae69d19",
    "_uuid": "8f2839f25d086af736a60e9eeb907d3b93b6e0e5",
    "execution": {
     "iopub.execute_input": "2023-02-05T08:47:48.735284Z",
     "iopub.status.busy": "2023-02-05T08:47:48.734663Z",
     "iopub.status.idle": "2023-02-05T08:47:50.370260Z",
     "shell.execute_reply": "2023-02-05T08:47:50.368727Z"
    },
    "papermill": {
     "duration": 1.652434,
     "end_time": "2023-02-05T08:47:50.374041",
     "exception": false,
     "start_time": "2023-02-05T08:47:48.721607",
     "status": "completed"
    },
    "tags": []
   },
   "outputs": [
    {
     "name": "stdout",
     "output_type": "stream",
     "text": [
      "/kaggle/input/cancer-patients-and-air-pollution-a-new-link/cancer patient data sets.csv\n"
     ]
    }
   ],
   "source": [
    "import numpy as np\n",
    "import pandas as pd\n",
    "import os\n",
    "from sklearn.neighbors import KNeighborsRegressor\n",
    "from sklearn.linear_model import LinearRegression\n",
    "from sklearn.linear_model import LogisticRegression\n",
    "from sklearn.linear_model import Ridge\n",
    "from sklearn.linear_model import Lasso\n",
    "from sklearn.svm import SVC\n",
    "from sklearn.naive_bayes import GaussianNB\n",
    "from sklearn.ensemble import RandomForestClassifier\n",
    "from sklearn.metrics import r2_score\n",
    "for dirname, _, filenames in os.walk('/kaggle/input'):\n",
    "    for filename in filenames:\n",
    "        print(os.path.join(dirname, filename))"
   ]
  },
  {
   "cell_type": "markdown",
   "id": "d3a54411",
   "metadata": {
    "papermill": {
     "duration": 0.008159,
     "end_time": "2023-02-05T08:47:50.391497",
     "exception": false,
     "start_time": "2023-02-05T08:47:50.383338",
     "status": "completed"
    },
    "tags": []
   },
   "source": [
    "Lets import our main data into the notebook"
   ]
  },
  {
   "cell_type": "code",
   "execution_count": 2,
   "id": "11776162",
   "metadata": {
    "execution": {
     "iopub.execute_input": "2023-02-05T08:47:50.411105Z",
     "iopub.status.busy": "2023-02-05T08:47:50.410524Z",
     "iopub.status.idle": "2023-02-05T08:47:50.436695Z",
     "shell.execute_reply": "2023-02-05T08:47:50.434880Z"
    },
    "papermill": {
     "duration": 0.040263,
     "end_time": "2023-02-05T08:47:50.440502",
     "exception": false,
     "start_time": "2023-02-05T08:47:50.400239",
     "status": "completed"
    },
    "tags": []
   },
   "outputs": [],
   "source": [
    "data = pd.read_csv(\"/kaggle/input/cancer-patients-and-air-pollution-a-new-link/cancer patient data sets.csv\")"
   ]
  },
  {
   "cell_type": "markdown",
   "id": "cf3d1f77",
   "metadata": {
    "papermill": {
     "duration": 0.008138,
     "end_time": "2023-02-05T08:47:50.457797",
     "exception": false,
     "start_time": "2023-02-05T08:47:50.449659",
     "status": "completed"
    },
    "tags": []
   },
   "source": [
    "It is a good habit to take a look at the data first. It gives us a lot of knowledge"
   ]
  },
  {
   "cell_type": "code",
   "execution_count": 3,
   "id": "0f5a649a",
   "metadata": {
    "execution": {
     "iopub.execute_input": "2023-02-05T08:47:50.477636Z",
     "iopub.status.busy": "2023-02-05T08:47:50.476661Z",
     "iopub.status.idle": "2023-02-05T08:47:50.521822Z",
     "shell.execute_reply": "2023-02-05T08:47:50.520271Z"
    },
    "papermill": {
     "duration": 0.059024,
     "end_time": "2023-02-05T08:47:50.525333",
     "exception": false,
     "start_time": "2023-02-05T08:47:50.466309",
     "status": "completed"
    },
    "tags": []
   },
   "outputs": [
    {
     "data": {
      "text/html": [
       "<div>\n",
       "<style scoped>\n",
       "    .dataframe tbody tr th:only-of-type {\n",
       "        vertical-align: middle;\n",
       "    }\n",
       "\n",
       "    .dataframe tbody tr th {\n",
       "        vertical-align: top;\n",
       "    }\n",
       "\n",
       "    .dataframe thead th {\n",
       "        text-align: right;\n",
       "    }\n",
       "</style>\n",
       "<table border=\"1\" class=\"dataframe\">\n",
       "  <thead>\n",
       "    <tr style=\"text-align: right;\">\n",
       "      <th></th>\n",
       "      <th>index</th>\n",
       "      <th>Patient Id</th>\n",
       "      <th>Age</th>\n",
       "      <th>Gender</th>\n",
       "      <th>Air Pollution</th>\n",
       "      <th>Alcohol use</th>\n",
       "      <th>Dust Allergy</th>\n",
       "      <th>OccuPational Hazards</th>\n",
       "      <th>Genetic Risk</th>\n",
       "      <th>chronic Lung Disease</th>\n",
       "      <th>...</th>\n",
       "      <th>Fatigue</th>\n",
       "      <th>Weight Loss</th>\n",
       "      <th>Shortness of Breath</th>\n",
       "      <th>Wheezing</th>\n",
       "      <th>Swallowing Difficulty</th>\n",
       "      <th>Clubbing of Finger Nails</th>\n",
       "      <th>Frequent Cold</th>\n",
       "      <th>Dry Cough</th>\n",
       "      <th>Snoring</th>\n",
       "      <th>Level</th>\n",
       "    </tr>\n",
       "  </thead>\n",
       "  <tbody>\n",
       "    <tr>\n",
       "      <th>0</th>\n",
       "      <td>0</td>\n",
       "      <td>P1</td>\n",
       "      <td>33</td>\n",
       "      <td>1</td>\n",
       "      <td>2</td>\n",
       "      <td>4</td>\n",
       "      <td>5</td>\n",
       "      <td>4</td>\n",
       "      <td>3</td>\n",
       "      <td>2</td>\n",
       "      <td>...</td>\n",
       "      <td>3</td>\n",
       "      <td>4</td>\n",
       "      <td>2</td>\n",
       "      <td>2</td>\n",
       "      <td>3</td>\n",
       "      <td>1</td>\n",
       "      <td>2</td>\n",
       "      <td>3</td>\n",
       "      <td>4</td>\n",
       "      <td>Low</td>\n",
       "    </tr>\n",
       "    <tr>\n",
       "      <th>1</th>\n",
       "      <td>1</td>\n",
       "      <td>P10</td>\n",
       "      <td>17</td>\n",
       "      <td>1</td>\n",
       "      <td>3</td>\n",
       "      <td>1</td>\n",
       "      <td>5</td>\n",
       "      <td>3</td>\n",
       "      <td>4</td>\n",
       "      <td>2</td>\n",
       "      <td>...</td>\n",
       "      <td>1</td>\n",
       "      <td>3</td>\n",
       "      <td>7</td>\n",
       "      <td>8</td>\n",
       "      <td>6</td>\n",
       "      <td>2</td>\n",
       "      <td>1</td>\n",
       "      <td>7</td>\n",
       "      <td>2</td>\n",
       "      <td>Medium</td>\n",
       "    </tr>\n",
       "    <tr>\n",
       "      <th>2</th>\n",
       "      <td>2</td>\n",
       "      <td>P100</td>\n",
       "      <td>35</td>\n",
       "      <td>1</td>\n",
       "      <td>4</td>\n",
       "      <td>5</td>\n",
       "      <td>6</td>\n",
       "      <td>5</td>\n",
       "      <td>5</td>\n",
       "      <td>4</td>\n",
       "      <td>...</td>\n",
       "      <td>8</td>\n",
       "      <td>7</td>\n",
       "      <td>9</td>\n",
       "      <td>2</td>\n",
       "      <td>1</td>\n",
       "      <td>4</td>\n",
       "      <td>6</td>\n",
       "      <td>7</td>\n",
       "      <td>2</td>\n",
       "      <td>High</td>\n",
       "    </tr>\n",
       "    <tr>\n",
       "      <th>3</th>\n",
       "      <td>3</td>\n",
       "      <td>P1000</td>\n",
       "      <td>37</td>\n",
       "      <td>1</td>\n",
       "      <td>7</td>\n",
       "      <td>7</td>\n",
       "      <td>7</td>\n",
       "      <td>7</td>\n",
       "      <td>6</td>\n",
       "      <td>7</td>\n",
       "      <td>...</td>\n",
       "      <td>4</td>\n",
       "      <td>2</td>\n",
       "      <td>3</td>\n",
       "      <td>1</td>\n",
       "      <td>4</td>\n",
       "      <td>5</td>\n",
       "      <td>6</td>\n",
       "      <td>7</td>\n",
       "      <td>5</td>\n",
       "      <td>High</td>\n",
       "    </tr>\n",
       "    <tr>\n",
       "      <th>4</th>\n",
       "      <td>4</td>\n",
       "      <td>P101</td>\n",
       "      <td>46</td>\n",
       "      <td>1</td>\n",
       "      <td>6</td>\n",
       "      <td>8</td>\n",
       "      <td>7</td>\n",
       "      <td>7</td>\n",
       "      <td>7</td>\n",
       "      <td>6</td>\n",
       "      <td>...</td>\n",
       "      <td>3</td>\n",
       "      <td>2</td>\n",
       "      <td>4</td>\n",
       "      <td>1</td>\n",
       "      <td>4</td>\n",
       "      <td>2</td>\n",
       "      <td>4</td>\n",
       "      <td>2</td>\n",
       "      <td>3</td>\n",
       "      <td>High</td>\n",
       "    </tr>\n",
       "    <tr>\n",
       "      <th>...</th>\n",
       "      <td>...</td>\n",
       "      <td>...</td>\n",
       "      <td>...</td>\n",
       "      <td>...</td>\n",
       "      <td>...</td>\n",
       "      <td>...</td>\n",
       "      <td>...</td>\n",
       "      <td>...</td>\n",
       "      <td>...</td>\n",
       "      <td>...</td>\n",
       "      <td>...</td>\n",
       "      <td>...</td>\n",
       "      <td>...</td>\n",
       "      <td>...</td>\n",
       "      <td>...</td>\n",
       "      <td>...</td>\n",
       "      <td>...</td>\n",
       "      <td>...</td>\n",
       "      <td>...</td>\n",
       "      <td>...</td>\n",
       "      <td>...</td>\n",
       "    </tr>\n",
       "    <tr>\n",
       "      <th>995</th>\n",
       "      <td>995</td>\n",
       "      <td>P995</td>\n",
       "      <td>44</td>\n",
       "      <td>1</td>\n",
       "      <td>6</td>\n",
       "      <td>7</td>\n",
       "      <td>7</td>\n",
       "      <td>7</td>\n",
       "      <td>7</td>\n",
       "      <td>6</td>\n",
       "      <td>...</td>\n",
       "      <td>5</td>\n",
       "      <td>3</td>\n",
       "      <td>2</td>\n",
       "      <td>7</td>\n",
       "      <td>8</td>\n",
       "      <td>2</td>\n",
       "      <td>4</td>\n",
       "      <td>5</td>\n",
       "      <td>3</td>\n",
       "      <td>High</td>\n",
       "    </tr>\n",
       "    <tr>\n",
       "      <th>996</th>\n",
       "      <td>996</td>\n",
       "      <td>P996</td>\n",
       "      <td>37</td>\n",
       "      <td>2</td>\n",
       "      <td>6</td>\n",
       "      <td>8</td>\n",
       "      <td>7</td>\n",
       "      <td>7</td>\n",
       "      <td>7</td>\n",
       "      <td>6</td>\n",
       "      <td>...</td>\n",
       "      <td>9</td>\n",
       "      <td>6</td>\n",
       "      <td>5</td>\n",
       "      <td>7</td>\n",
       "      <td>2</td>\n",
       "      <td>4</td>\n",
       "      <td>3</td>\n",
       "      <td>1</td>\n",
       "      <td>4</td>\n",
       "      <td>High</td>\n",
       "    </tr>\n",
       "    <tr>\n",
       "      <th>997</th>\n",
       "      <td>997</td>\n",
       "      <td>P997</td>\n",
       "      <td>25</td>\n",
       "      <td>2</td>\n",
       "      <td>4</td>\n",
       "      <td>5</td>\n",
       "      <td>6</td>\n",
       "      <td>5</td>\n",
       "      <td>5</td>\n",
       "      <td>4</td>\n",
       "      <td>...</td>\n",
       "      <td>8</td>\n",
       "      <td>7</td>\n",
       "      <td>9</td>\n",
       "      <td>2</td>\n",
       "      <td>1</td>\n",
       "      <td>4</td>\n",
       "      <td>6</td>\n",
       "      <td>7</td>\n",
       "      <td>2</td>\n",
       "      <td>High</td>\n",
       "    </tr>\n",
       "    <tr>\n",
       "      <th>998</th>\n",
       "      <td>998</td>\n",
       "      <td>P998</td>\n",
       "      <td>18</td>\n",
       "      <td>2</td>\n",
       "      <td>6</td>\n",
       "      <td>8</td>\n",
       "      <td>7</td>\n",
       "      <td>7</td>\n",
       "      <td>7</td>\n",
       "      <td>6</td>\n",
       "      <td>...</td>\n",
       "      <td>3</td>\n",
       "      <td>2</td>\n",
       "      <td>4</td>\n",
       "      <td>1</td>\n",
       "      <td>4</td>\n",
       "      <td>2</td>\n",
       "      <td>4</td>\n",
       "      <td>2</td>\n",
       "      <td>3</td>\n",
       "      <td>High</td>\n",
       "    </tr>\n",
       "    <tr>\n",
       "      <th>999</th>\n",
       "      <td>999</td>\n",
       "      <td>P999</td>\n",
       "      <td>47</td>\n",
       "      <td>1</td>\n",
       "      <td>6</td>\n",
       "      <td>5</td>\n",
       "      <td>6</td>\n",
       "      <td>5</td>\n",
       "      <td>5</td>\n",
       "      <td>4</td>\n",
       "      <td>...</td>\n",
       "      <td>8</td>\n",
       "      <td>7</td>\n",
       "      <td>9</td>\n",
       "      <td>2</td>\n",
       "      <td>1</td>\n",
       "      <td>4</td>\n",
       "      <td>6</td>\n",
       "      <td>7</td>\n",
       "      <td>2</td>\n",
       "      <td>High</td>\n",
       "    </tr>\n",
       "  </tbody>\n",
       "</table>\n",
       "<p>1000 rows × 26 columns</p>\n",
       "</div>"
      ],
      "text/plain": [
       "     index Patient Id  Age  Gender  Air Pollution  Alcohol use  Dust Allergy  \\\n",
       "0        0         P1   33       1              2            4             5   \n",
       "1        1        P10   17       1              3            1             5   \n",
       "2        2       P100   35       1              4            5             6   \n",
       "3        3      P1000   37       1              7            7             7   \n",
       "4        4       P101   46       1              6            8             7   \n",
       "..     ...        ...  ...     ...            ...          ...           ...   \n",
       "995    995       P995   44       1              6            7             7   \n",
       "996    996       P996   37       2              6            8             7   \n",
       "997    997       P997   25       2              4            5             6   \n",
       "998    998       P998   18       2              6            8             7   \n",
       "999    999       P999   47       1              6            5             6   \n",
       "\n",
       "     OccuPational Hazards  Genetic Risk  chronic Lung Disease  ...  Fatigue  \\\n",
       "0                       4             3                     2  ...        3   \n",
       "1                       3             4                     2  ...        1   \n",
       "2                       5             5                     4  ...        8   \n",
       "3                       7             6                     7  ...        4   \n",
       "4                       7             7                     6  ...        3   \n",
       "..                    ...           ...                   ...  ...      ...   \n",
       "995                     7             7                     6  ...        5   \n",
       "996                     7             7                     6  ...        9   \n",
       "997                     5             5                     4  ...        8   \n",
       "998                     7             7                     6  ...        3   \n",
       "999                     5             5                     4  ...        8   \n",
       "\n",
       "     Weight Loss  Shortness of Breath  Wheezing  Swallowing Difficulty  \\\n",
       "0              4                    2         2                      3   \n",
       "1              3                    7         8                      6   \n",
       "2              7                    9         2                      1   \n",
       "3              2                    3         1                      4   \n",
       "4              2                    4         1                      4   \n",
       "..           ...                  ...       ...                    ...   \n",
       "995            3                    2         7                      8   \n",
       "996            6                    5         7                      2   \n",
       "997            7                    9         2                      1   \n",
       "998            2                    4         1                      4   \n",
       "999            7                    9         2                      1   \n",
       "\n",
       "     Clubbing of Finger Nails  Frequent Cold  Dry Cough  Snoring   Level  \n",
       "0                           1              2          3        4     Low  \n",
       "1                           2              1          7        2  Medium  \n",
       "2                           4              6          7        2    High  \n",
       "3                           5              6          7        5    High  \n",
       "4                           2              4          2        3    High  \n",
       "..                        ...            ...        ...      ...     ...  \n",
       "995                         2              4          5        3    High  \n",
       "996                         4              3          1        4    High  \n",
       "997                         4              6          7        2    High  \n",
       "998                         2              4          2        3    High  \n",
       "999                         4              6          7        2    High  \n",
       "\n",
       "[1000 rows x 26 columns]"
      ]
     },
     "execution_count": 3,
     "metadata": {},
     "output_type": "execute_result"
    }
   ],
   "source": [
    "data"
   ]
  },
  {
   "cell_type": "markdown",
   "id": "c0180e27",
   "metadata": {
    "papermill": {
     "duration": 0.008586,
     "end_time": "2023-02-05T08:47:50.543102",
     "exception": false,
     "start_time": "2023-02-05T08:47:50.534516",
     "status": "completed"
    },
    "tags": []
   },
   "source": [
    "The data have  $1000$rows and $26$columns accounting to $26000$ values in total. There are various kind of values in the dta ranging from both numerical to ctegorical. Lets get more info about all the features/columns"
   ]
  },
  {
   "cell_type": "code",
   "execution_count": 4,
   "id": "4bbc19cc",
   "metadata": {
    "execution": {
     "iopub.execute_input": "2023-02-05T08:47:50.563481Z",
     "iopub.status.busy": "2023-02-05T08:47:50.562809Z",
     "iopub.status.idle": "2023-02-05T08:47:50.596127Z",
     "shell.execute_reply": "2023-02-05T08:47:50.594152Z"
    },
    "papermill": {
     "duration": 0.047122,
     "end_time": "2023-02-05T08:47:50.599127",
     "exception": false,
     "start_time": "2023-02-05T08:47:50.552005",
     "status": "completed"
    },
    "tags": []
   },
   "outputs": [
    {
     "name": "stdout",
     "output_type": "stream",
     "text": [
      "<class 'pandas.core.frame.DataFrame'>\n",
      "RangeIndex: 1000 entries, 0 to 999\n",
      "Data columns (total 26 columns):\n",
      " #   Column                    Non-Null Count  Dtype \n",
      "---  ------                    --------------  ----- \n",
      " 0   index                     1000 non-null   int64 \n",
      " 1   Patient Id                1000 non-null   object\n",
      " 2   Age                       1000 non-null   int64 \n",
      " 3   Gender                    1000 non-null   int64 \n",
      " 4   Air Pollution             1000 non-null   int64 \n",
      " 5   Alcohol use               1000 non-null   int64 \n",
      " 6   Dust Allergy              1000 non-null   int64 \n",
      " 7   OccuPational Hazards      1000 non-null   int64 \n",
      " 8   Genetic Risk              1000 non-null   int64 \n",
      " 9   chronic Lung Disease      1000 non-null   int64 \n",
      " 10  Balanced Diet             1000 non-null   int64 \n",
      " 11  Obesity                   1000 non-null   int64 \n",
      " 12  Smoking                   1000 non-null   int64 \n",
      " 13  Passive Smoker            1000 non-null   int64 \n",
      " 14  Chest Pain                1000 non-null   int64 \n",
      " 15  Coughing of Blood         1000 non-null   int64 \n",
      " 16  Fatigue                   1000 non-null   int64 \n",
      " 17  Weight Loss               1000 non-null   int64 \n",
      " 18  Shortness of Breath       1000 non-null   int64 \n",
      " 19  Wheezing                  1000 non-null   int64 \n",
      " 20  Swallowing Difficulty     1000 non-null   int64 \n",
      " 21  Clubbing of Finger Nails  1000 non-null   int64 \n",
      " 22  Frequent Cold             1000 non-null   int64 \n",
      " 23  Dry Cough                 1000 non-null   int64 \n",
      " 24  Snoring                   1000 non-null   int64 \n",
      " 25  Level                     1000 non-null   object\n",
      "dtypes: int64(24), object(2)\n",
      "memory usage: 203.2+ KB\n"
     ]
    }
   ],
   "source": [
    "data.info()"
   ]
  },
  {
   "cell_type": "markdown",
   "id": "36ba60a0",
   "metadata": {
    "papermill": {
     "duration": 0.00934,
     "end_time": "2023-02-05T08:47:50.618144",
     "exception": false,
     "start_time": "2023-02-05T08:47:50.608804",
     "status": "completed"
    },
    "tags": []
   },
   "source": [
    "Seems like `index` and `Patient Id` are unique for every row and will thus deivite the accuracy of our model. So lets remove them "
   ]
  },
  {
   "cell_type": "code",
   "execution_count": 5,
   "id": "4541e8e4",
   "metadata": {
    "execution": {
     "iopub.execute_input": "2023-02-05T08:47:50.639065Z",
     "iopub.status.busy": "2023-02-05T08:47:50.638532Z",
     "iopub.status.idle": "2023-02-05T08:47:50.647630Z",
     "shell.execute_reply": "2023-02-05T08:47:50.646175Z"
    },
    "papermill": {
     "duration": 0.023539,
     "end_time": "2023-02-05T08:47:50.650653",
     "exception": false,
     "start_time": "2023-02-05T08:47:50.627114",
     "status": "completed"
    },
    "tags": []
   },
   "outputs": [],
   "source": [
    "data.drop([\"Patient Id\" , \"index\"], axis = 1 , inplace = True)"
   ]
  },
  {
   "cell_type": "markdown",
   "id": "370963cf",
   "metadata": {
    "papermill": {
     "duration": 0.008439,
     "end_time": "2023-02-05T08:47:50.668238",
     "exception": false,
     "start_time": "2023-02-05T08:47:50.659799",
     "status": "completed"
    },
    "tags": []
   },
   "source": [
    "And now if we see at our datasets"
   ]
  },
  {
   "cell_type": "code",
   "execution_count": 6,
   "id": "ab31d2be",
   "metadata": {
    "execution": {
     "iopub.execute_input": "2023-02-05T08:47:50.689057Z",
     "iopub.status.busy": "2023-02-05T08:47:50.687630Z",
     "iopub.status.idle": "2023-02-05T08:47:50.712994Z",
     "shell.execute_reply": "2023-02-05T08:47:50.711671Z"
    },
    "papermill": {
     "duration": 0.038908,
     "end_time": "2023-02-05T08:47:50.716066",
     "exception": false,
     "start_time": "2023-02-05T08:47:50.677158",
     "status": "completed"
    },
    "tags": []
   },
   "outputs": [
    {
     "data": {
      "text/html": [
       "<div>\n",
       "<style scoped>\n",
       "    .dataframe tbody tr th:only-of-type {\n",
       "        vertical-align: middle;\n",
       "    }\n",
       "\n",
       "    .dataframe tbody tr th {\n",
       "        vertical-align: top;\n",
       "    }\n",
       "\n",
       "    .dataframe thead th {\n",
       "        text-align: right;\n",
       "    }\n",
       "</style>\n",
       "<table border=\"1\" class=\"dataframe\">\n",
       "  <thead>\n",
       "    <tr style=\"text-align: right;\">\n",
       "      <th></th>\n",
       "      <th>Age</th>\n",
       "      <th>Gender</th>\n",
       "      <th>Air Pollution</th>\n",
       "      <th>Alcohol use</th>\n",
       "      <th>Dust Allergy</th>\n",
       "      <th>OccuPational Hazards</th>\n",
       "      <th>Genetic Risk</th>\n",
       "      <th>chronic Lung Disease</th>\n",
       "      <th>Balanced Diet</th>\n",
       "      <th>Obesity</th>\n",
       "      <th>...</th>\n",
       "      <th>Fatigue</th>\n",
       "      <th>Weight Loss</th>\n",
       "      <th>Shortness of Breath</th>\n",
       "      <th>Wheezing</th>\n",
       "      <th>Swallowing Difficulty</th>\n",
       "      <th>Clubbing of Finger Nails</th>\n",
       "      <th>Frequent Cold</th>\n",
       "      <th>Dry Cough</th>\n",
       "      <th>Snoring</th>\n",
       "      <th>Level</th>\n",
       "    </tr>\n",
       "  </thead>\n",
       "  <tbody>\n",
       "    <tr>\n",
       "      <th>0</th>\n",
       "      <td>33</td>\n",
       "      <td>1</td>\n",
       "      <td>2</td>\n",
       "      <td>4</td>\n",
       "      <td>5</td>\n",
       "      <td>4</td>\n",
       "      <td>3</td>\n",
       "      <td>2</td>\n",
       "      <td>2</td>\n",
       "      <td>4</td>\n",
       "      <td>...</td>\n",
       "      <td>3</td>\n",
       "      <td>4</td>\n",
       "      <td>2</td>\n",
       "      <td>2</td>\n",
       "      <td>3</td>\n",
       "      <td>1</td>\n",
       "      <td>2</td>\n",
       "      <td>3</td>\n",
       "      <td>4</td>\n",
       "      <td>Low</td>\n",
       "    </tr>\n",
       "    <tr>\n",
       "      <th>1</th>\n",
       "      <td>17</td>\n",
       "      <td>1</td>\n",
       "      <td>3</td>\n",
       "      <td>1</td>\n",
       "      <td>5</td>\n",
       "      <td>3</td>\n",
       "      <td>4</td>\n",
       "      <td>2</td>\n",
       "      <td>2</td>\n",
       "      <td>2</td>\n",
       "      <td>...</td>\n",
       "      <td>1</td>\n",
       "      <td>3</td>\n",
       "      <td>7</td>\n",
       "      <td>8</td>\n",
       "      <td>6</td>\n",
       "      <td>2</td>\n",
       "      <td>1</td>\n",
       "      <td>7</td>\n",
       "      <td>2</td>\n",
       "      <td>Medium</td>\n",
       "    </tr>\n",
       "    <tr>\n",
       "      <th>2</th>\n",
       "      <td>35</td>\n",
       "      <td>1</td>\n",
       "      <td>4</td>\n",
       "      <td>5</td>\n",
       "      <td>6</td>\n",
       "      <td>5</td>\n",
       "      <td>5</td>\n",
       "      <td>4</td>\n",
       "      <td>6</td>\n",
       "      <td>7</td>\n",
       "      <td>...</td>\n",
       "      <td>8</td>\n",
       "      <td>7</td>\n",
       "      <td>9</td>\n",
       "      <td>2</td>\n",
       "      <td>1</td>\n",
       "      <td>4</td>\n",
       "      <td>6</td>\n",
       "      <td>7</td>\n",
       "      <td>2</td>\n",
       "      <td>High</td>\n",
       "    </tr>\n",
       "    <tr>\n",
       "      <th>3</th>\n",
       "      <td>37</td>\n",
       "      <td>1</td>\n",
       "      <td>7</td>\n",
       "      <td>7</td>\n",
       "      <td>7</td>\n",
       "      <td>7</td>\n",
       "      <td>6</td>\n",
       "      <td>7</td>\n",
       "      <td>7</td>\n",
       "      <td>7</td>\n",
       "      <td>...</td>\n",
       "      <td>4</td>\n",
       "      <td>2</td>\n",
       "      <td>3</td>\n",
       "      <td>1</td>\n",
       "      <td>4</td>\n",
       "      <td>5</td>\n",
       "      <td>6</td>\n",
       "      <td>7</td>\n",
       "      <td>5</td>\n",
       "      <td>High</td>\n",
       "    </tr>\n",
       "    <tr>\n",
       "      <th>4</th>\n",
       "      <td>46</td>\n",
       "      <td>1</td>\n",
       "      <td>6</td>\n",
       "      <td>8</td>\n",
       "      <td>7</td>\n",
       "      <td>7</td>\n",
       "      <td>7</td>\n",
       "      <td>6</td>\n",
       "      <td>7</td>\n",
       "      <td>7</td>\n",
       "      <td>...</td>\n",
       "      <td>3</td>\n",
       "      <td>2</td>\n",
       "      <td>4</td>\n",
       "      <td>1</td>\n",
       "      <td>4</td>\n",
       "      <td>2</td>\n",
       "      <td>4</td>\n",
       "      <td>2</td>\n",
       "      <td>3</td>\n",
       "      <td>High</td>\n",
       "    </tr>\n",
       "    <tr>\n",
       "      <th>...</th>\n",
       "      <td>...</td>\n",
       "      <td>...</td>\n",
       "      <td>...</td>\n",
       "      <td>...</td>\n",
       "      <td>...</td>\n",
       "      <td>...</td>\n",
       "      <td>...</td>\n",
       "      <td>...</td>\n",
       "      <td>...</td>\n",
       "      <td>...</td>\n",
       "      <td>...</td>\n",
       "      <td>...</td>\n",
       "      <td>...</td>\n",
       "      <td>...</td>\n",
       "      <td>...</td>\n",
       "      <td>...</td>\n",
       "      <td>...</td>\n",
       "      <td>...</td>\n",
       "      <td>...</td>\n",
       "      <td>...</td>\n",
       "      <td>...</td>\n",
       "    </tr>\n",
       "    <tr>\n",
       "      <th>995</th>\n",
       "      <td>44</td>\n",
       "      <td>1</td>\n",
       "      <td>6</td>\n",
       "      <td>7</td>\n",
       "      <td>7</td>\n",
       "      <td>7</td>\n",
       "      <td>7</td>\n",
       "      <td>6</td>\n",
       "      <td>7</td>\n",
       "      <td>7</td>\n",
       "      <td>...</td>\n",
       "      <td>5</td>\n",
       "      <td>3</td>\n",
       "      <td>2</td>\n",
       "      <td>7</td>\n",
       "      <td>8</td>\n",
       "      <td>2</td>\n",
       "      <td>4</td>\n",
       "      <td>5</td>\n",
       "      <td>3</td>\n",
       "      <td>High</td>\n",
       "    </tr>\n",
       "    <tr>\n",
       "      <th>996</th>\n",
       "      <td>37</td>\n",
       "      <td>2</td>\n",
       "      <td>6</td>\n",
       "      <td>8</td>\n",
       "      <td>7</td>\n",
       "      <td>7</td>\n",
       "      <td>7</td>\n",
       "      <td>6</td>\n",
       "      <td>7</td>\n",
       "      <td>7</td>\n",
       "      <td>...</td>\n",
       "      <td>9</td>\n",
       "      <td>6</td>\n",
       "      <td>5</td>\n",
       "      <td>7</td>\n",
       "      <td>2</td>\n",
       "      <td>4</td>\n",
       "      <td>3</td>\n",
       "      <td>1</td>\n",
       "      <td>4</td>\n",
       "      <td>High</td>\n",
       "    </tr>\n",
       "    <tr>\n",
       "      <th>997</th>\n",
       "      <td>25</td>\n",
       "      <td>2</td>\n",
       "      <td>4</td>\n",
       "      <td>5</td>\n",
       "      <td>6</td>\n",
       "      <td>5</td>\n",
       "      <td>5</td>\n",
       "      <td>4</td>\n",
       "      <td>6</td>\n",
       "      <td>7</td>\n",
       "      <td>...</td>\n",
       "      <td>8</td>\n",
       "      <td>7</td>\n",
       "      <td>9</td>\n",
       "      <td>2</td>\n",
       "      <td>1</td>\n",
       "      <td>4</td>\n",
       "      <td>6</td>\n",
       "      <td>7</td>\n",
       "      <td>2</td>\n",
       "      <td>High</td>\n",
       "    </tr>\n",
       "    <tr>\n",
       "      <th>998</th>\n",
       "      <td>18</td>\n",
       "      <td>2</td>\n",
       "      <td>6</td>\n",
       "      <td>8</td>\n",
       "      <td>7</td>\n",
       "      <td>7</td>\n",
       "      <td>7</td>\n",
       "      <td>6</td>\n",
       "      <td>7</td>\n",
       "      <td>7</td>\n",
       "      <td>...</td>\n",
       "      <td>3</td>\n",
       "      <td>2</td>\n",
       "      <td>4</td>\n",
       "      <td>1</td>\n",
       "      <td>4</td>\n",
       "      <td>2</td>\n",
       "      <td>4</td>\n",
       "      <td>2</td>\n",
       "      <td>3</td>\n",
       "      <td>High</td>\n",
       "    </tr>\n",
       "    <tr>\n",
       "      <th>999</th>\n",
       "      <td>47</td>\n",
       "      <td>1</td>\n",
       "      <td>6</td>\n",
       "      <td>5</td>\n",
       "      <td>6</td>\n",
       "      <td>5</td>\n",
       "      <td>5</td>\n",
       "      <td>4</td>\n",
       "      <td>6</td>\n",
       "      <td>7</td>\n",
       "      <td>...</td>\n",
       "      <td>8</td>\n",
       "      <td>7</td>\n",
       "      <td>9</td>\n",
       "      <td>2</td>\n",
       "      <td>1</td>\n",
       "      <td>4</td>\n",
       "      <td>6</td>\n",
       "      <td>7</td>\n",
       "      <td>2</td>\n",
       "      <td>High</td>\n",
       "    </tr>\n",
       "  </tbody>\n",
       "</table>\n",
       "<p>1000 rows × 24 columns</p>\n",
       "</div>"
      ],
      "text/plain": [
       "     Age  Gender  Air Pollution  Alcohol use  Dust Allergy  \\\n",
       "0     33       1              2            4             5   \n",
       "1     17       1              3            1             5   \n",
       "2     35       1              4            5             6   \n",
       "3     37       1              7            7             7   \n",
       "4     46       1              6            8             7   \n",
       "..   ...     ...            ...          ...           ...   \n",
       "995   44       1              6            7             7   \n",
       "996   37       2              6            8             7   \n",
       "997   25       2              4            5             6   \n",
       "998   18       2              6            8             7   \n",
       "999   47       1              6            5             6   \n",
       "\n",
       "     OccuPational Hazards  Genetic Risk  chronic Lung Disease  Balanced Diet  \\\n",
       "0                       4             3                     2              2   \n",
       "1                       3             4                     2              2   \n",
       "2                       5             5                     4              6   \n",
       "3                       7             6                     7              7   \n",
       "4                       7             7                     6              7   \n",
       "..                    ...           ...                   ...            ...   \n",
       "995                     7             7                     6              7   \n",
       "996                     7             7                     6              7   \n",
       "997                     5             5                     4              6   \n",
       "998                     7             7                     6              7   \n",
       "999                     5             5                     4              6   \n",
       "\n",
       "     Obesity  ...  Fatigue  Weight Loss  Shortness of Breath  Wheezing  \\\n",
       "0          4  ...        3            4                    2         2   \n",
       "1          2  ...        1            3                    7         8   \n",
       "2          7  ...        8            7                    9         2   \n",
       "3          7  ...        4            2                    3         1   \n",
       "4          7  ...        3            2                    4         1   \n",
       "..       ...  ...      ...          ...                  ...       ...   \n",
       "995        7  ...        5            3                    2         7   \n",
       "996        7  ...        9            6                    5         7   \n",
       "997        7  ...        8            7                    9         2   \n",
       "998        7  ...        3            2                    4         1   \n",
       "999        7  ...        8            7                    9         2   \n",
       "\n",
       "     Swallowing Difficulty  Clubbing of Finger Nails  Frequent Cold  \\\n",
       "0                        3                         1              2   \n",
       "1                        6                         2              1   \n",
       "2                        1                         4              6   \n",
       "3                        4                         5              6   \n",
       "4                        4                         2              4   \n",
       "..                     ...                       ...            ...   \n",
       "995                      8                         2              4   \n",
       "996                      2                         4              3   \n",
       "997                      1                         4              6   \n",
       "998                      4                         2              4   \n",
       "999                      1                         4              6   \n",
       "\n",
       "     Dry Cough  Snoring   Level  \n",
       "0            3        4     Low  \n",
       "1            7        2  Medium  \n",
       "2            7        2    High  \n",
       "3            7        5    High  \n",
       "4            2        3    High  \n",
       "..         ...      ...     ...  \n",
       "995          5        3    High  \n",
       "996          1        4    High  \n",
       "997          7        2    High  \n",
       "998          2        3    High  \n",
       "999          7        2    High  \n",
       "\n",
       "[1000 rows x 24 columns]"
      ]
     },
     "execution_count": 6,
     "metadata": {},
     "output_type": "execute_result"
    }
   ],
   "source": [
    "data"
   ]
  },
  {
   "cell_type": "markdown",
   "id": "87a1b1bf",
   "metadata": {
    "papermill": {
     "duration": 0.009308,
     "end_time": "2023-02-05T08:47:50.735247",
     "exception": false,
     "start_time": "2023-02-05T08:47:50.725939",
     "status": "completed"
    },
    "tags": []
   },
   "source": [
    "Categorical data is harder for the system to compute and thus making it numerical will be benifical. Lets replace the values of our target with numbers"
   ]
  },
  {
   "cell_type": "code",
   "execution_count": 7,
   "id": "b56a39bb",
   "metadata": {
    "execution": {
     "iopub.execute_input": "2023-02-05T08:47:50.756571Z",
     "iopub.status.busy": "2023-02-05T08:47:50.756098Z",
     "iopub.status.idle": "2023-02-05T08:47:50.764295Z",
     "shell.execute_reply": "2023-02-05T08:47:50.763055Z"
    },
    "papermill": {
     "duration": 0.022315,
     "end_time": "2023-02-05T08:47:50.767139",
     "exception": false,
     "start_time": "2023-02-05T08:47:50.744824",
     "status": "completed"
    },
    "tags": []
   },
   "outputs": [],
   "source": [
    "data.replace(to_replace = \"Low\" , value = 0 , inplace = True)\n",
    "data.replace(to_replace = \"Medium\" , value = 1 , inplace = True)\n",
    "data.replace(to_replace = \"High\" , value = 2 , inplace = True)"
   ]
  },
  {
   "cell_type": "code",
   "execution_count": 8,
   "id": "e96b2438",
   "metadata": {
    "execution": {
     "iopub.execute_input": "2023-02-05T08:47:50.790584Z",
     "iopub.status.busy": "2023-02-05T08:47:50.789380Z",
     "iopub.status.idle": "2023-02-05T08:47:50.814459Z",
     "shell.execute_reply": "2023-02-05T08:47:50.813250Z"
    },
    "papermill": {
     "duration": 0.03995,
     "end_time": "2023-02-05T08:47:50.817475",
     "exception": false,
     "start_time": "2023-02-05T08:47:50.777525",
     "status": "completed"
    },
    "tags": []
   },
   "outputs": [
    {
     "data": {
      "text/html": [
       "<div>\n",
       "<style scoped>\n",
       "    .dataframe tbody tr th:only-of-type {\n",
       "        vertical-align: middle;\n",
       "    }\n",
       "\n",
       "    .dataframe tbody tr th {\n",
       "        vertical-align: top;\n",
       "    }\n",
       "\n",
       "    .dataframe thead th {\n",
       "        text-align: right;\n",
       "    }\n",
       "</style>\n",
       "<table border=\"1\" class=\"dataframe\">\n",
       "  <thead>\n",
       "    <tr style=\"text-align: right;\">\n",
       "      <th></th>\n",
       "      <th>Age</th>\n",
       "      <th>Gender</th>\n",
       "      <th>Air Pollution</th>\n",
       "      <th>Alcohol use</th>\n",
       "      <th>Dust Allergy</th>\n",
       "      <th>OccuPational Hazards</th>\n",
       "      <th>Genetic Risk</th>\n",
       "      <th>chronic Lung Disease</th>\n",
       "      <th>Balanced Diet</th>\n",
       "      <th>Obesity</th>\n",
       "      <th>...</th>\n",
       "      <th>Fatigue</th>\n",
       "      <th>Weight Loss</th>\n",
       "      <th>Shortness of Breath</th>\n",
       "      <th>Wheezing</th>\n",
       "      <th>Swallowing Difficulty</th>\n",
       "      <th>Clubbing of Finger Nails</th>\n",
       "      <th>Frequent Cold</th>\n",
       "      <th>Dry Cough</th>\n",
       "      <th>Snoring</th>\n",
       "      <th>Level</th>\n",
       "    </tr>\n",
       "  </thead>\n",
       "  <tbody>\n",
       "    <tr>\n",
       "      <th>0</th>\n",
       "      <td>33</td>\n",
       "      <td>1</td>\n",
       "      <td>2</td>\n",
       "      <td>4</td>\n",
       "      <td>5</td>\n",
       "      <td>4</td>\n",
       "      <td>3</td>\n",
       "      <td>2</td>\n",
       "      <td>2</td>\n",
       "      <td>4</td>\n",
       "      <td>...</td>\n",
       "      <td>3</td>\n",
       "      <td>4</td>\n",
       "      <td>2</td>\n",
       "      <td>2</td>\n",
       "      <td>3</td>\n",
       "      <td>1</td>\n",
       "      <td>2</td>\n",
       "      <td>3</td>\n",
       "      <td>4</td>\n",
       "      <td>0</td>\n",
       "    </tr>\n",
       "    <tr>\n",
       "      <th>1</th>\n",
       "      <td>17</td>\n",
       "      <td>1</td>\n",
       "      <td>3</td>\n",
       "      <td>1</td>\n",
       "      <td>5</td>\n",
       "      <td>3</td>\n",
       "      <td>4</td>\n",
       "      <td>2</td>\n",
       "      <td>2</td>\n",
       "      <td>2</td>\n",
       "      <td>...</td>\n",
       "      <td>1</td>\n",
       "      <td>3</td>\n",
       "      <td>7</td>\n",
       "      <td>8</td>\n",
       "      <td>6</td>\n",
       "      <td>2</td>\n",
       "      <td>1</td>\n",
       "      <td>7</td>\n",
       "      <td>2</td>\n",
       "      <td>1</td>\n",
       "    </tr>\n",
       "    <tr>\n",
       "      <th>2</th>\n",
       "      <td>35</td>\n",
       "      <td>1</td>\n",
       "      <td>4</td>\n",
       "      <td>5</td>\n",
       "      <td>6</td>\n",
       "      <td>5</td>\n",
       "      <td>5</td>\n",
       "      <td>4</td>\n",
       "      <td>6</td>\n",
       "      <td>7</td>\n",
       "      <td>...</td>\n",
       "      <td>8</td>\n",
       "      <td>7</td>\n",
       "      <td>9</td>\n",
       "      <td>2</td>\n",
       "      <td>1</td>\n",
       "      <td>4</td>\n",
       "      <td>6</td>\n",
       "      <td>7</td>\n",
       "      <td>2</td>\n",
       "      <td>2</td>\n",
       "    </tr>\n",
       "    <tr>\n",
       "      <th>3</th>\n",
       "      <td>37</td>\n",
       "      <td>1</td>\n",
       "      <td>7</td>\n",
       "      <td>7</td>\n",
       "      <td>7</td>\n",
       "      <td>7</td>\n",
       "      <td>6</td>\n",
       "      <td>7</td>\n",
       "      <td>7</td>\n",
       "      <td>7</td>\n",
       "      <td>...</td>\n",
       "      <td>4</td>\n",
       "      <td>2</td>\n",
       "      <td>3</td>\n",
       "      <td>1</td>\n",
       "      <td>4</td>\n",
       "      <td>5</td>\n",
       "      <td>6</td>\n",
       "      <td>7</td>\n",
       "      <td>5</td>\n",
       "      <td>2</td>\n",
       "    </tr>\n",
       "    <tr>\n",
       "      <th>4</th>\n",
       "      <td>46</td>\n",
       "      <td>1</td>\n",
       "      <td>6</td>\n",
       "      <td>8</td>\n",
       "      <td>7</td>\n",
       "      <td>7</td>\n",
       "      <td>7</td>\n",
       "      <td>6</td>\n",
       "      <td>7</td>\n",
       "      <td>7</td>\n",
       "      <td>...</td>\n",
       "      <td>3</td>\n",
       "      <td>2</td>\n",
       "      <td>4</td>\n",
       "      <td>1</td>\n",
       "      <td>4</td>\n",
       "      <td>2</td>\n",
       "      <td>4</td>\n",
       "      <td>2</td>\n",
       "      <td>3</td>\n",
       "      <td>2</td>\n",
       "    </tr>\n",
       "    <tr>\n",
       "      <th>...</th>\n",
       "      <td>...</td>\n",
       "      <td>...</td>\n",
       "      <td>...</td>\n",
       "      <td>...</td>\n",
       "      <td>...</td>\n",
       "      <td>...</td>\n",
       "      <td>...</td>\n",
       "      <td>...</td>\n",
       "      <td>...</td>\n",
       "      <td>...</td>\n",
       "      <td>...</td>\n",
       "      <td>...</td>\n",
       "      <td>...</td>\n",
       "      <td>...</td>\n",
       "      <td>...</td>\n",
       "      <td>...</td>\n",
       "      <td>...</td>\n",
       "      <td>...</td>\n",
       "      <td>...</td>\n",
       "      <td>...</td>\n",
       "      <td>...</td>\n",
       "    </tr>\n",
       "    <tr>\n",
       "      <th>995</th>\n",
       "      <td>44</td>\n",
       "      <td>1</td>\n",
       "      <td>6</td>\n",
       "      <td>7</td>\n",
       "      <td>7</td>\n",
       "      <td>7</td>\n",
       "      <td>7</td>\n",
       "      <td>6</td>\n",
       "      <td>7</td>\n",
       "      <td>7</td>\n",
       "      <td>...</td>\n",
       "      <td>5</td>\n",
       "      <td>3</td>\n",
       "      <td>2</td>\n",
       "      <td>7</td>\n",
       "      <td>8</td>\n",
       "      <td>2</td>\n",
       "      <td>4</td>\n",
       "      <td>5</td>\n",
       "      <td>3</td>\n",
       "      <td>2</td>\n",
       "    </tr>\n",
       "    <tr>\n",
       "      <th>996</th>\n",
       "      <td>37</td>\n",
       "      <td>2</td>\n",
       "      <td>6</td>\n",
       "      <td>8</td>\n",
       "      <td>7</td>\n",
       "      <td>7</td>\n",
       "      <td>7</td>\n",
       "      <td>6</td>\n",
       "      <td>7</td>\n",
       "      <td>7</td>\n",
       "      <td>...</td>\n",
       "      <td>9</td>\n",
       "      <td>6</td>\n",
       "      <td>5</td>\n",
       "      <td>7</td>\n",
       "      <td>2</td>\n",
       "      <td>4</td>\n",
       "      <td>3</td>\n",
       "      <td>1</td>\n",
       "      <td>4</td>\n",
       "      <td>2</td>\n",
       "    </tr>\n",
       "    <tr>\n",
       "      <th>997</th>\n",
       "      <td>25</td>\n",
       "      <td>2</td>\n",
       "      <td>4</td>\n",
       "      <td>5</td>\n",
       "      <td>6</td>\n",
       "      <td>5</td>\n",
       "      <td>5</td>\n",
       "      <td>4</td>\n",
       "      <td>6</td>\n",
       "      <td>7</td>\n",
       "      <td>...</td>\n",
       "      <td>8</td>\n",
       "      <td>7</td>\n",
       "      <td>9</td>\n",
       "      <td>2</td>\n",
       "      <td>1</td>\n",
       "      <td>4</td>\n",
       "      <td>6</td>\n",
       "      <td>7</td>\n",
       "      <td>2</td>\n",
       "      <td>2</td>\n",
       "    </tr>\n",
       "    <tr>\n",
       "      <th>998</th>\n",
       "      <td>18</td>\n",
       "      <td>2</td>\n",
       "      <td>6</td>\n",
       "      <td>8</td>\n",
       "      <td>7</td>\n",
       "      <td>7</td>\n",
       "      <td>7</td>\n",
       "      <td>6</td>\n",
       "      <td>7</td>\n",
       "      <td>7</td>\n",
       "      <td>...</td>\n",
       "      <td>3</td>\n",
       "      <td>2</td>\n",
       "      <td>4</td>\n",
       "      <td>1</td>\n",
       "      <td>4</td>\n",
       "      <td>2</td>\n",
       "      <td>4</td>\n",
       "      <td>2</td>\n",
       "      <td>3</td>\n",
       "      <td>2</td>\n",
       "    </tr>\n",
       "    <tr>\n",
       "      <th>999</th>\n",
       "      <td>47</td>\n",
       "      <td>1</td>\n",
       "      <td>6</td>\n",
       "      <td>5</td>\n",
       "      <td>6</td>\n",
       "      <td>5</td>\n",
       "      <td>5</td>\n",
       "      <td>4</td>\n",
       "      <td>6</td>\n",
       "      <td>7</td>\n",
       "      <td>...</td>\n",
       "      <td>8</td>\n",
       "      <td>7</td>\n",
       "      <td>9</td>\n",
       "      <td>2</td>\n",
       "      <td>1</td>\n",
       "      <td>4</td>\n",
       "      <td>6</td>\n",
       "      <td>7</td>\n",
       "      <td>2</td>\n",
       "      <td>2</td>\n",
       "    </tr>\n",
       "  </tbody>\n",
       "</table>\n",
       "<p>1000 rows × 24 columns</p>\n",
       "</div>"
      ],
      "text/plain": [
       "     Age  Gender  Air Pollution  Alcohol use  Dust Allergy  \\\n",
       "0     33       1              2            4             5   \n",
       "1     17       1              3            1             5   \n",
       "2     35       1              4            5             6   \n",
       "3     37       1              7            7             7   \n",
       "4     46       1              6            8             7   \n",
       "..   ...     ...            ...          ...           ...   \n",
       "995   44       1              6            7             7   \n",
       "996   37       2              6            8             7   \n",
       "997   25       2              4            5             6   \n",
       "998   18       2              6            8             7   \n",
       "999   47       1              6            5             6   \n",
       "\n",
       "     OccuPational Hazards  Genetic Risk  chronic Lung Disease  Balanced Diet  \\\n",
       "0                       4             3                     2              2   \n",
       "1                       3             4                     2              2   \n",
       "2                       5             5                     4              6   \n",
       "3                       7             6                     7              7   \n",
       "4                       7             7                     6              7   \n",
       "..                    ...           ...                   ...            ...   \n",
       "995                     7             7                     6              7   \n",
       "996                     7             7                     6              7   \n",
       "997                     5             5                     4              6   \n",
       "998                     7             7                     6              7   \n",
       "999                     5             5                     4              6   \n",
       "\n",
       "     Obesity  ...  Fatigue  Weight Loss  Shortness of Breath  Wheezing  \\\n",
       "0          4  ...        3            4                    2         2   \n",
       "1          2  ...        1            3                    7         8   \n",
       "2          7  ...        8            7                    9         2   \n",
       "3          7  ...        4            2                    3         1   \n",
       "4          7  ...        3            2                    4         1   \n",
       "..       ...  ...      ...          ...                  ...       ...   \n",
       "995        7  ...        5            3                    2         7   \n",
       "996        7  ...        9            6                    5         7   \n",
       "997        7  ...        8            7                    9         2   \n",
       "998        7  ...        3            2                    4         1   \n",
       "999        7  ...        8            7                    9         2   \n",
       "\n",
       "     Swallowing Difficulty  Clubbing of Finger Nails  Frequent Cold  \\\n",
       "0                        3                         1              2   \n",
       "1                        6                         2              1   \n",
       "2                        1                         4              6   \n",
       "3                        4                         5              6   \n",
       "4                        4                         2              4   \n",
       "..                     ...                       ...            ...   \n",
       "995                      8                         2              4   \n",
       "996                      2                         4              3   \n",
       "997                      1                         4              6   \n",
       "998                      4                         2              4   \n",
       "999                      1                         4              6   \n",
       "\n",
       "     Dry Cough  Snoring  Level  \n",
       "0            3        4      0  \n",
       "1            7        2      1  \n",
       "2            7        2      2  \n",
       "3            7        5      2  \n",
       "4            2        3      2  \n",
       "..         ...      ...    ...  \n",
       "995          5        3      2  \n",
       "996          1        4      2  \n",
       "997          7        2      2  \n",
       "998          2        3      2  \n",
       "999          7        2      2  \n",
       "\n",
       "[1000 rows x 24 columns]"
      ]
     },
     "execution_count": 8,
     "metadata": {},
     "output_type": "execute_result"
    }
   ],
   "source": [
    "data"
   ]
  },
  {
   "cell_type": "markdown",
   "id": "0c5b6c1a",
   "metadata": {
    "papermill": {
     "duration": 0.009947,
     "end_time": "2023-02-05T08:47:50.837432",
     "exception": false,
     "start_time": "2023-02-05T08:47:50.827485",
     "status": "completed"
    },
    "tags": []
   },
   "source": [
    "Now lets divide our datasets into train and test data "
   ]
  },
  {
   "cell_type": "code",
   "execution_count": 9,
   "id": "7d4b5384",
   "metadata": {
    "execution": {
     "iopub.execute_input": "2023-02-05T08:47:50.860570Z",
     "iopub.status.busy": "2023-02-05T08:47:50.859959Z",
     "iopub.status.idle": "2023-02-05T08:47:50.868655Z",
     "shell.execute_reply": "2023-02-05T08:47:50.867312Z"
    },
    "papermill": {
     "duration": 0.024251,
     "end_time": "2023-02-05T08:47:50.871850",
     "exception": false,
     "start_time": "2023-02-05T08:47:50.847599",
     "status": "completed"
    },
    "tags": []
   },
   "outputs": [],
   "source": [
    "train , test = np.split(data.sample(frac = 1) , [int(0.8 * len(data))])"
   ]
  },
  {
   "cell_type": "code",
   "execution_count": 10,
   "id": "c9dbaf61",
   "metadata": {
    "execution": {
     "iopub.execute_input": "2023-02-05T08:47:50.894533Z",
     "iopub.status.busy": "2023-02-05T08:47:50.894069Z",
     "iopub.status.idle": "2023-02-05T08:47:50.903198Z",
     "shell.execute_reply": "2023-02-05T08:47:50.901666Z"
    },
    "papermill": {
     "duration": 0.024154,
     "end_time": "2023-02-05T08:47:50.906499",
     "exception": false,
     "start_time": "2023-02-05T08:47:50.882345",
     "status": "completed"
    },
    "tags": []
   },
   "outputs": [],
   "source": [
    "def pre(dataframe):\n",
    "    target = [\"Level\"]\n",
    "    x = dataframe.drop(target , axis = 1)\n",
    "    y = dataframe[target]\n",
    "    \n",
    "    return x , y"
   ]
  },
  {
   "cell_type": "code",
   "execution_count": 11,
   "id": "707b034d",
   "metadata": {
    "execution": {
     "iopub.execute_input": "2023-02-05T08:47:50.929322Z",
     "iopub.status.busy": "2023-02-05T08:47:50.928300Z",
     "iopub.status.idle": "2023-02-05T08:47:50.936904Z",
     "shell.execute_reply": "2023-02-05T08:47:50.935837Z"
    },
    "papermill": {
     "duration": 0.023281,
     "end_time": "2023-02-05T08:47:50.939853",
     "exception": false,
     "start_time": "2023-02-05T08:47:50.916572",
     "status": "completed"
    },
    "tags": []
   },
   "outputs": [],
   "source": [
    "X_train , Y_train = pre(train)\n",
    "X_test , Y_test = pre(test)"
   ]
  },
  {
   "cell_type": "markdown",
   "id": "2c6f6889",
   "metadata": {
    "papermill": {
     "duration": 0.009586,
     "end_time": "2023-02-05T08:47:50.959688",
     "exception": false,
     "start_time": "2023-02-05T08:47:50.950102",
     "status": "completed"
    },
    "tags": []
   },
   "source": [
    "Now as our model is good to go, lets train it "
   ]
  },
  {
   "cell_type": "markdown",
   "id": "e53cdc7f",
   "metadata": {
    "papermill": {
     "duration": 0.009775,
     "end_time": "2023-02-05T08:47:50.979457",
     "exception": false,
     "start_time": "2023-02-05T08:47:50.969682",
     "status": "completed"
    },
    "tags": []
   },
   "source": [
    "Our first model will be [KNeighborsRegressor](https://scikit-learn.org/stable/modules/generated/sklearn.neighbors.KNeighborsRegressor.html)"
   ]
  },
  {
   "cell_type": "code",
   "execution_count": 12,
   "id": "0b5e315f",
   "metadata": {
    "execution": {
     "iopub.execute_input": "2023-02-05T08:47:51.002999Z",
     "iopub.status.busy": "2023-02-05T08:47:51.001582Z",
     "iopub.status.idle": "2023-02-05T08:47:51.016294Z",
     "shell.execute_reply": "2023-02-05T08:47:51.015188Z"
    },
    "papermill": {
     "duration": 0.029378,
     "end_time": "2023-02-05T08:47:51.018769",
     "exception": false,
     "start_time": "2023-02-05T08:47:50.989391",
     "status": "completed"
    },
    "tags": []
   },
   "outputs": [
    {
     "data": {
      "text/plain": [
       "KNeighborsRegressor()"
      ]
     },
     "execution_count": 12,
     "metadata": {},
     "output_type": "execute_result"
    }
   ],
   "source": [
    "model_0 = KNeighborsRegressor()\n",
    "model_0.fit(X_train , Y_train)"
   ]
  },
  {
   "cell_type": "markdown",
   "id": "f2afbd47",
   "metadata": {
    "papermill": {
     "duration": 0.009679,
     "end_time": "2023-02-05T08:47:51.038737",
     "exception": false,
     "start_time": "2023-02-05T08:47:51.029058",
     "status": "completed"
    },
    "tags": []
   },
   "source": [
    "Second will be [LinearRegression](https://scikit-learn.org/stable/modules/generated/sklearn.linear_model.LinearRegression.html)"
   ]
  },
  {
   "cell_type": "code",
   "execution_count": 13,
   "id": "46aeb2c2",
   "metadata": {
    "execution": {
     "iopub.execute_input": "2023-02-05T08:47:51.061868Z",
     "iopub.status.busy": "2023-02-05T08:47:51.060810Z",
     "iopub.status.idle": "2023-02-05T08:47:51.097694Z",
     "shell.execute_reply": "2023-02-05T08:47:51.095836Z"
    },
    "papermill": {
     "duration": 0.053991,
     "end_time": "2023-02-05T08:47:51.102999",
     "exception": false,
     "start_time": "2023-02-05T08:47:51.049008",
     "status": "completed"
    },
    "tags": []
   },
   "outputs": [
    {
     "data": {
      "text/plain": [
       "LinearRegression()"
      ]
     },
     "execution_count": 13,
     "metadata": {},
     "output_type": "execute_result"
    }
   ],
   "source": [
    "model_1 = LinearRegression()\n",
    "model_1.fit(X_train , Y_train)"
   ]
  },
  {
   "cell_type": "markdown",
   "id": "39f7ac09",
   "metadata": {
    "papermill": {
     "duration": 0.026409,
     "end_time": "2023-02-05T08:47:51.155491",
     "exception": false,
     "start_time": "2023-02-05T08:47:51.129082",
     "status": "completed"
    },
    "tags": []
   },
   "source": [
    "Third will be [LogisitcRegression](https://scikit-learn.org/stable/modules/generated/sklearn.linear_model.LogisticRegression.html)"
   ]
  },
  {
   "cell_type": "code",
   "execution_count": 14,
   "id": "74d887b8",
   "metadata": {
    "execution": {
     "iopub.execute_input": "2023-02-05T08:47:51.208867Z",
     "iopub.status.busy": "2023-02-05T08:47:51.207720Z",
     "iopub.status.idle": "2023-02-05T08:47:51.299970Z",
     "shell.execute_reply": "2023-02-05T08:47:51.298559Z"
    },
    "papermill": {
     "duration": 0.120599,
     "end_time": "2023-02-05T08:47:51.302580",
     "exception": false,
     "start_time": "2023-02-05T08:47:51.181981",
     "status": "completed"
    },
    "tags": []
   },
   "outputs": [
    {
     "name": "stderr",
     "output_type": "stream",
     "text": [
      "/opt/conda/lib/python3.7/site-packages/sklearn/utils/validation.py:993: DataConversionWarning: A column-vector y was passed when a 1d array was expected. Please change the shape of y to (n_samples, ), for example using ravel().\n",
      "  y = column_or_1d(y, warn=True)\n",
      "/opt/conda/lib/python3.7/site-packages/sklearn/linear_model/_logistic.py:818: ConvergenceWarning: lbfgs failed to converge (status=1):\n",
      "STOP: TOTAL NO. of ITERATIONS REACHED LIMIT.\n",
      "\n",
      "Increase the number of iterations (max_iter) or scale the data as shown in:\n",
      "    https://scikit-learn.org/stable/modules/preprocessing.html\n",
      "Please also refer to the documentation for alternative solver options:\n",
      "    https://scikit-learn.org/stable/modules/linear_model.html#logistic-regression\n",
      "  extra_warning_msg=_LOGISTIC_SOLVER_CONVERGENCE_MSG,\n"
     ]
    },
    {
     "data": {
      "text/plain": [
       "LogisticRegression()"
      ]
     },
     "execution_count": 14,
     "metadata": {},
     "output_type": "execute_result"
    }
   ],
   "source": [
    "model_2 = LogisticRegression()\n",
    "model_2.fit(X_train , Y_train)"
   ]
  },
  {
   "cell_type": "markdown",
   "id": "4b7c6d26",
   "metadata": {
    "papermill": {
     "duration": 0.011175,
     "end_time": "2023-02-05T08:47:51.324615",
     "exception": false,
     "start_time": "2023-02-05T08:47:51.313440",
     "status": "completed"
    },
    "tags": []
   },
   "source": [
    "Fourth will be [RidgeRegression](https://scikit-learn.org/stable/modules/generated/sklearn.linear_model.Ridge.html)"
   ]
  },
  {
   "cell_type": "code",
   "execution_count": 15,
   "id": "8221024d",
   "metadata": {
    "execution": {
     "iopub.execute_input": "2023-02-05T08:47:51.348223Z",
     "iopub.status.busy": "2023-02-05T08:47:51.347684Z",
     "iopub.status.idle": "2023-02-05T08:47:51.370899Z",
     "shell.execute_reply": "2023-02-05T08:47:51.369053Z"
    },
    "papermill": {
     "duration": 0.040365,
     "end_time": "2023-02-05T08:47:51.375773",
     "exception": false,
     "start_time": "2023-02-05T08:47:51.335408",
     "status": "completed"
    },
    "tags": []
   },
   "outputs": [
    {
     "data": {
      "text/plain": [
       "Ridge()"
      ]
     },
     "execution_count": 15,
     "metadata": {},
     "output_type": "execute_result"
    }
   ],
   "source": [
    "model_3 = Ridge()\n",
    "model_3.fit(X_train , Y_train)"
   ]
  },
  {
   "cell_type": "markdown",
   "id": "b5f1df0f",
   "metadata": {
    "papermill": {
     "duration": 0.027026,
     "end_time": "2023-02-05T08:47:51.430126",
     "exception": false,
     "start_time": "2023-02-05T08:47:51.403100",
     "status": "completed"
    },
    "tags": []
   },
   "source": [
    "Fifth will be [Lasso](https://scikit-learn.org/stable/modules/generated/sklearn.linear_model.Lasso.html)"
   ]
  },
  {
   "cell_type": "code",
   "execution_count": 16,
   "id": "18af324c",
   "metadata": {
    "execution": {
     "iopub.execute_input": "2023-02-05T08:47:51.485521Z",
     "iopub.status.busy": "2023-02-05T08:47:51.485007Z",
     "iopub.status.idle": "2023-02-05T08:47:51.504735Z",
     "shell.execute_reply": "2023-02-05T08:47:51.502354Z"
    },
    "papermill": {
     "duration": 0.050352,
     "end_time": "2023-02-05T08:47:51.509710",
     "exception": false,
     "start_time": "2023-02-05T08:47:51.459358",
     "status": "completed"
    },
    "tags": []
   },
   "outputs": [
    {
     "data": {
      "text/plain": [
       "Lasso()"
      ]
     },
     "execution_count": 16,
     "metadata": {},
     "output_type": "execute_result"
    }
   ],
   "source": [
    "model_4 = Lasso()\n",
    "model_4.fit(X_train , Y_train)"
   ]
  },
  {
   "cell_type": "markdown",
   "id": "c5a57cab",
   "metadata": {
    "papermill": {
     "duration": 0.02644,
     "end_time": "2023-02-05T08:47:51.565561",
     "exception": false,
     "start_time": "2023-02-05T08:47:51.539121",
     "status": "completed"
    },
    "tags": []
   },
   "source": [
    "Sixth will be [SupportVectorMachine](https://scikit-learn.org/stable/modules/svm.html)"
   ]
  },
  {
   "cell_type": "code",
   "execution_count": 17,
   "id": "2c538263",
   "metadata": {
    "execution": {
     "iopub.execute_input": "2023-02-05T08:47:51.620748Z",
     "iopub.status.busy": "2023-02-05T08:47:51.620250Z",
     "iopub.status.idle": "2023-02-05T08:47:51.649182Z",
     "shell.execute_reply": "2023-02-05T08:47:51.648093Z"
    },
    "papermill": {
     "duration": 0.059546,
     "end_time": "2023-02-05T08:47:51.652212",
     "exception": false,
     "start_time": "2023-02-05T08:47:51.592666",
     "status": "completed"
    },
    "tags": []
   },
   "outputs": [
    {
     "name": "stderr",
     "output_type": "stream",
     "text": [
      "/opt/conda/lib/python3.7/site-packages/sklearn/utils/validation.py:993: DataConversionWarning: A column-vector y was passed when a 1d array was expected. Please change the shape of y to (n_samples, ), for example using ravel().\n",
      "  y = column_or_1d(y, warn=True)\n"
     ]
    },
    {
     "data": {
      "text/plain": [
       "SVC()"
      ]
     },
     "execution_count": 17,
     "metadata": {},
     "output_type": "execute_result"
    }
   ],
   "source": [
    "model_5 = SVC()\n",
    "model_5.fit(X_train , Y_train)"
   ]
  },
  {
   "cell_type": "markdown",
   "id": "b427d147",
   "metadata": {
    "papermill": {
     "duration": 0.010304,
     "end_time": "2023-02-05T08:47:51.673802",
     "exception": false,
     "start_time": "2023-02-05T08:47:51.663498",
     "status": "completed"
    },
    "tags": []
   },
   "source": [
    "Seventh will be [GaussianNaiveBayes](http://scikit-learn.org/stable/modules/generated/sklearn.naive_bayes.GaussianNB.html)"
   ]
  },
  {
   "cell_type": "code",
   "execution_count": 18,
   "id": "9e1f40d9",
   "metadata": {
    "execution": {
     "iopub.execute_input": "2023-02-05T08:47:51.699087Z",
     "iopub.status.busy": "2023-02-05T08:47:51.698535Z",
     "iopub.status.idle": "2023-02-05T08:47:51.712514Z",
     "shell.execute_reply": "2023-02-05T08:47:51.710336Z"
    },
    "papermill": {
     "duration": 0.030231,
     "end_time": "2023-02-05T08:47:51.715857",
     "exception": false,
     "start_time": "2023-02-05T08:47:51.685626",
     "status": "completed"
    },
    "tags": []
   },
   "outputs": [
    {
     "name": "stderr",
     "output_type": "stream",
     "text": [
      "/opt/conda/lib/python3.7/site-packages/sklearn/utils/validation.py:993: DataConversionWarning: A column-vector y was passed when a 1d array was expected. Please change the shape of y to (n_samples, ), for example using ravel().\n",
      "  y = column_or_1d(y, warn=True)\n"
     ]
    },
    {
     "data": {
      "text/plain": [
       "GaussianNB()"
      ]
     },
     "execution_count": 18,
     "metadata": {},
     "output_type": "execute_result"
    }
   ],
   "source": [
    "model_6 = GaussianNB()\n",
    "model_6.fit(X_train , Y_train)"
   ]
  },
  {
   "cell_type": "markdown",
   "id": "0e9ad793",
   "metadata": {
    "papermill": {
     "duration": 0.010499,
     "end_time": "2023-02-05T08:47:51.737616",
     "exception": false,
     "start_time": "2023-02-05T08:47:51.727117",
     "status": "completed"
    },
    "tags": []
   },
   "source": [
    "And the last will be [RandomForestClassfier](https://scikit-learn.org/stable/modules/generated/sklearn.ensemble.RandomForestClassifier.html)"
   ]
  },
  {
   "cell_type": "code",
   "execution_count": 19,
   "id": "16c04fd3",
   "metadata": {
    "execution": {
     "iopub.execute_input": "2023-02-05T08:47:51.762780Z",
     "iopub.status.busy": "2023-02-05T08:47:51.762263Z",
     "iopub.status.idle": "2023-02-05T08:47:51.960596Z",
     "shell.execute_reply": "2023-02-05T08:47:51.959174Z"
    },
    "papermill": {
     "duration": 0.214472,
     "end_time": "2023-02-05T08:47:51.963460",
     "exception": false,
     "start_time": "2023-02-05T08:47:51.748988",
     "status": "completed"
    },
    "tags": []
   },
   "outputs": [
    {
     "name": "stderr",
     "output_type": "stream",
     "text": [
      "/opt/conda/lib/python3.7/site-packages/ipykernel_launcher.py:2: DataConversionWarning: A column-vector y was passed when a 1d array was expected. Please change the shape of y to (n_samples,), for example using ravel().\n",
      "  \n"
     ]
    },
    {
     "data": {
      "text/plain": [
       "RandomForestClassifier()"
      ]
     },
     "execution_count": 19,
     "metadata": {},
     "output_type": "execute_result"
    }
   ],
   "source": [
    "model_7 = RandomForestClassifier()\n",
    "model_7.fit(X_train , Y_train)"
   ]
  },
  {
   "cell_type": "code",
   "execution_count": 20,
   "id": "054183b4",
   "metadata": {
    "execution": {
     "iopub.execute_input": "2023-02-05T08:47:51.988985Z",
     "iopub.status.busy": "2023-02-05T08:47:51.988482Z",
     "iopub.status.idle": "2023-02-05T08:47:52.121355Z",
     "shell.execute_reply": "2023-02-05T08:47:52.119964Z"
    },
    "papermill": {
     "duration": 0.15005,
     "end_time": "2023-02-05T08:47:52.124973",
     "exception": false,
     "start_time": "2023-02-05T08:47:51.974923",
     "status": "completed"
    },
    "tags": []
   },
   "outputs": [
    {
     "name": "stdout",
     "output_type": "stream",
     "text": [
      "R2 score for  KNeighborsRegressor()  is :  0.9928292046936115\n",
      "R2 score for  LinearRegression()  is :  0.8892632247878243\n",
      "R2 score for  LogisticRegression()  is :  0.991851368970013\n",
      "R2 score for  Ridge()  is :  0.889160657885216\n",
      "R2 score for  Lasso()  is :  0.38622172514921493\n",
      "R2 score for  SVC()  is :  0.9348109517601043\n",
      "R2 score for  GaussianNB()  is :  0.771838331160365\n",
      "R2 score for  RandomForestClassifier()  is :  1.0\n"
     ]
    }
   ],
   "source": [
    "print(\"R2 score for \" , model_0 , \" is : \" , r2_score(Y_test , model_0.predict(X_test)))\n",
    "print(\"R2 score for \" , model_1 , \" is : \" , r2_score(Y_test , model_1.predict(X_test)))\n",
    "print(\"R2 score for \" , model_2 , \" is : \" , r2_score(Y_test , model_2.predict(X_test)))\n",
    "print(\"R2 score for \" , model_3 , \" is : \" , r2_score(Y_test , model_3.predict(X_test)))\n",
    "print(\"R2 score for \" , model_4 , \" is : \" , r2_score(Y_test , model_4.predict(X_test)))\n",
    "print(\"R2 score for \" , model_5 , \" is : \" , r2_score(Y_test , model_5.predict(X_test)))\n",
    "print(\"R2 score for \" , model_6 , \" is : \" , r2_score(Y_test , model_6.predict(X_test)))\n",
    "print(\"R2 score for \" , model_7 , \" is : \" , r2_score(Y_test , model_7.predict(X_test)))"
   ]
  },
  {
   "cell_type": "markdown",
   "id": "4303bb15",
   "metadata": {
    "papermill": {
     "duration": 0.013147,
     "end_time": "2023-02-05T08:47:52.150463",
     "exception": false,
     "start_time": "2023-02-05T08:47:52.137316",
     "status": "completed"
    },
    "tags": []
   },
   "source": [
    "As we can see out of the eight different models, two models really performed so well that they gave and accuruacy of $100$% which is actually suspecious and phenomenon at the same time. Still the gold medal of this notebook goes to `Logistic Regression` and `Random Forest Classifer`. The lineup is backed by `KNeighnhorsRegressor` with an accuracy of almost $99.50$%. The silver medal goes to this model for sure. The third place is secured by `SupportVectorMachines.` giving an accuracy of almost $95.37$% and also getting a bronze model. In the line up we also have some other algos like `Linear Regression` , `Ridge Regression` which gave an accuracy of $92.93$% and `Gaussian Naive Baiyes` with $78.43$. The worst performance was gave by `Lasso Regression` with an accuracy of $40.63$%. In the upcoming versions we will try to perfrom some preporcessing methods to make these predictions better. Till then Bye Bye\n",
    "**THANKS FOR VISITING THE NOTEBOOK**\n",
    "**PLEASE MAKE AN UPVOTE IF YOUR LIKED MY WORK**\n",
    "**PEACE OUT**"
   ]
  },
  {
   "cell_type": "code",
   "execution_count": null,
   "id": "dfa459e8",
   "metadata": {
    "papermill": {
     "duration": 0.011395,
     "end_time": "2023-02-05T08:47:52.173796",
     "exception": false,
     "start_time": "2023-02-05T08:47:52.162401",
     "status": "completed"
    },
    "tags": []
   },
   "outputs": [],
   "source": []
  }
 ],
 "metadata": {
  "kernelspec": {
   "display_name": "Python 3",
   "language": "python",
   "name": "python3"
  },
  "language_info": {
   "codemirror_mode": {
    "name": "ipython",
    "version": 3
   },
   "file_extension": ".py",
   "mimetype": "text/x-python",
   "name": "python",
   "nbconvert_exporter": "python",
   "pygments_lexer": "ipython3",
   "version": "3.7.12"
  },
  "papermill": {
   "default_parameters": {},
   "duration": 13.892236,
   "end_time": "2023-02-05T08:47:53.011564",
   "environment_variables": {},
   "exception": null,
   "input_path": "__notebook__.ipynb",
   "output_path": "__notebook__.ipynb",
   "parameters": {},
   "start_time": "2023-02-05T08:47:39.119328",
   "version": "2.3.4"
  }
 },
 "nbformat": 4,
 "nbformat_minor": 5
}
